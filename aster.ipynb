{
 "cells": [
  {
   "cell_type": "markdown",
   "id": "504302d9",
   "metadata": {},
   "source": [
    "## <center><font style='font-family:new' color='aazzzz'>Anàlisi del Desplaçament al Vermell de SNeIa per la quantificació d'Energia Fosca</font></center><br>\n",
    "\n",
    "El 1998, Saul Perlmutter, Brian Schmidt and Adam Reiss van confirmar irrefutablement l'existènica de _Dark Energy_ (d'acord amb els models astronòmics que acceptem actualment).<br>\n",
    "L'equip de Saul va mesurar el redshift ($z$, o desplaçament al vermell) i la magnitud efectiva (o brillantor que observem des de la Terra) d'algunes <a href=\"https://en.wikipedia.org/wiki/Type_Ia_supernova\">Supernoves del tipus Ia</a> (SNeIa)."
   ]
  },
  {
   "cell_type": "code",
   "execution_count": 1,
   "id": "58612d9c",
   "metadata": {},
   "outputs": [],
   "source": [
    "import pylab as pl\n",
    "import pandas as pd\n",
    "import numpy as np\n",
    "import matplotlib.pyplot as plt\n",
    "\n",
    "import astropy #llibreria d'on importarem el model del nostre univers\n",
    "from astropy.cosmology import FlatLambdaCDM"
   ]
  },
  {
   "cell_type": "markdown",
   "id": "aef2cb5f",
   "metadata": {},
   "source": [
    "Emprarem les dades publicades a l'article de Saul Perlmutter et al: <a href=\"https://arxiv.org/pdf/astro-ph/9812133.pdf\">\"MEASUREMENTS OF $\\Omega$ AND $\\Lambda$ FROM 42 HIGH-REDSHIFT SUPERNOVAE\"</a>. Més concretament, emprarem les que es troben a la taula 1 (SCP SNE IA DATA): \n",
    "* Columna 2: $z$, geocentric redshift of supernova or host galaxy\n",
    "* Columna 9: Stretch-luminosity corrected effective B-band peak magnitude"
   ]
  },
  {
   "cell_type": "code",
   "execution_count": 2,
   "id": "dc0fe244",
   "metadata": {},
   "outputs": [
    {
     "data": {
      "text/html": [
       "<div>\n",
       "<style scoped>\n",
       "    .dataframe tbody tr th:only-of-type {\n",
       "        vertical-align: middle;\n",
       "    }\n",
       "\n",
       "    .dataframe tbody tr th {\n",
       "        vertical-align: top;\n",
       "    }\n",
       "\n",
       "    .dataframe thead th {\n",
       "        text-align: right;\n",
       "    }\n",
       "</style>\n",
       "<table border=\"1\" class=\"dataframe\">\n",
       "  <thead>\n",
       "    <tr style=\"text-align: right;\">\n",
       "      <th></th>\n",
       "      <th>z</th>\n",
       "      <th>Magnitud efectiva</th>\n",
       "    </tr>\n",
       "  </thead>\n",
       "  <tbody>\n",
       "    <tr>\n",
       "      <th>0</th>\n",
       "      <td>0.458</td>\n",
       "      <td>23.11</td>\n",
       "    </tr>\n",
       "    <tr>\n",
       "      <th>1</th>\n",
       "      <td>0.354</td>\n",
       "      <td>22.38</td>\n",
       "    </tr>\n",
       "    <tr>\n",
       "      <th>2</th>\n",
       "      <td>0.425</td>\n",
       "      <td>22.13</td>\n",
       "    </tr>\n",
       "    <tr>\n",
       "      <th>3</th>\n",
       "      <td>0.374</td>\n",
       "      <td>21.72</td>\n",
       "    </tr>\n",
       "    <tr>\n",
       "      <th>4</th>\n",
       "      <td>0.420</td>\n",
       "      <td>22.55</td>\n",
       "    </tr>\n",
       "    <tr>\n",
       "      <th>5</th>\n",
       "      <td>0.372</td>\n",
       "      <td>22.26</td>\n",
       "    </tr>\n",
       "    <tr>\n",
       "      <th>6</th>\n",
       "      <td>0.378</td>\n",
       "      <td>22.58</td>\n",
       "    </tr>\n",
       "    <tr>\n",
       "      <th>7</th>\n",
       "      <td>0.453</td>\n",
       "      <td>23.17</td>\n",
       "    </tr>\n",
       "    <tr>\n",
       "      <th>8</th>\n",
       "      <td>0.465</td>\n",
       "      <td>23.33</td>\n",
       "    </tr>\n",
       "    <tr>\n",
       "      <th>9</th>\n",
       "      <td>0.498</td>\n",
       "      <td>23.71</td>\n",
       "    </tr>\n",
       "  </tbody>\n",
       "</table>\n",
       "</div>"
      ],
      "text/plain": [
       "       z  Magnitud efectiva\n",
       "0  0.458              23.11\n",
       "1  0.354              22.38\n",
       "2  0.425              22.13\n",
       "3  0.374              21.72\n",
       "4  0.420              22.55\n",
       "5  0.372              22.26\n",
       "6  0.378              22.58\n",
       "7  0.453              23.17\n",
       "8  0.465              23.33\n",
       "9  0.498              23.71"
      ]
     },
     "execution_count": 2,
     "metadata": {},
     "output_type": "execute_result"
    }
   ],
   "source": [
    "# tenim un arxiu en local amb les dades copiades del seu article\n",
    "# l'importem per reading amb el nom 'dades'\n",
    "with open('./practiques/perlmutter.txt', \"r\") as dades:\n",
    "    dat = pd.read_csv(dades, names=['z', 'Magnitud efectiva'], comment='#', sep='\\s+')\n",
    "\n",
    "toprint = dat[:10] #les 10 primeres files de dades\n",
    "toprint #les imprimim per veure que les nostres dades les hem guardat correctament"
   ]
  },
  {
   "cell_type": "markdown",
   "id": "3b523f7e",
   "metadata": {},
   "source": [
    "Un cop comprovem que podem llegir les dades correctament, podem calcular quina quantitat d'<b>energia fosca</b> hi ha a l'univers.<br> En primer lloc, necessitem un model que ens descrigui el desplaçament al vermell (redshift) de cada supernova en funció de la distància (la sabem a partir de la lluminositat de cada SN).<br>Donada una certa quantitat d'aquesta energia fosca, emprem $\\Omega_\\Lambda$ per denotar la _fracció_ de tota la matèria que es comporta com Dark Energy."
   ]
  },
  {
   "cell_type": "code",
   "execution_count": 3,
   "id": "b1ff241b",
   "metadata": {},
   "outputs": [],
   "source": [
    "def lumdist(z, olambda):\n",
    "    '''\n",
    "    Per aquest càlcul prenem:\n",
    "        Constant de Hubble: 70 (km/s)/Mpc\n",
    "        Omega matter (densitat de matèria no relativística): 1\n",
    "        Temperatura de CMB (Cosmic microwave background): 2.725 K\n",
    "    Paràmetres d'entrada:\n",
    "        z: redshift\n",
    "        olambda: la fracció de tota la matèria que es comporta com Dark Energy\n",
    "    Sortida:\n",
    "        'Distància lumínica' en Mpc a un redshift donat\n",
    "    '''\n",
    "    cosmo = FlatLambdaCDM(H0=70, Om0=1. - olambda, Tcmb0=2.725)\n",
    "    return  cosmo.luminosity_distance(z)"
   ]
  },
  {
   "cell_type": "code",
   "execution_count": 4,
   "id": "c81e9236",
   "metadata": {},
   "outputs": [],
   "source": [
    "def effmag(z, olambda, MB):\n",
    "    '''\n",
    "    Necessitem convertir la distància en la forma en la qual els astrònoms mesuren la brillantor\n",
    "    Paràmetres d'entrada:\n",
    "        z: redshift\n",
    "        olambda: la fracció de tota la matèria que es comporta com Dark Energy\n",
    "        MB: magnitud absoluta d'una estrella; B indica que estem referint-nos a la part de\n",
    "        radiació estelar que s'emet a la part de “blau” de l'espectre\n",
    "    Sortida:\n",
    "        Magnitud efectiva, en el cas de SNeIa correspon equivalentment amb la distància (per standard\n",
    "        candles, quan més tènue veiem un d'aquests objectes, més allunyat es troba de nosaltres)\n",
    "    '''\n",
    "    DL = lumdist(z, olambda) #emprem la funció anterior\n",
    "    return MB + 5. * np.log10(DL.value) #calculem a partir de la magnitud absoluta i la distància lumínica"
   ]
  },
  {
   "cell_type": "code",
   "execution_count": 5,
   "id": "185a7e3b",
   "metadata": {},
   "outputs": [
    {
     "data": {
      "text/plain": [
       "(13.0, 25.0)"
      ]
     },
     "execution_count": 5,
     "metadata": {},
     "output_type": "execute_result"
    },
    {
     "data": {
      "image/png": "[encoded data removed]",
      "text/plain": [
       "<Figure size 640x480 with 1 Axes>"
      ]
     },
     "metadata": {},
     "output_type": "display_data"
    }
   ],
   "source": [
    "# plot on eix x és el redshift i l'eix y la lluminositat, equivalent a la distància\n",
    "# marquem amb 'x' de color negre i amb certa transparència on són les nostres supernoves\n",
    "pl.plot(dat['z'], dat['Magnitud efectiva'], marker='x', color='k', lw=0.0, alpha=0.6)\n",
    "\n",
    "#anomenem els nostres eixos\n",
    "pl.xlabel('Desplaçament al vermell (redshift)')\n",
    "pl.ylabel('Magnitud efectiva')\n",
    "\n",
    "#calculate equation for quartic trendline\n",
    "z = np.polyfit(dat['z'],dat['Magnitud efectiva'] , 5)\n",
    "p = np.poly1d(z)\n",
    "\n",
    "x = np.linspace(0.1,0.83,100) #fem les divisions que considerem necessàries entre els valors pels quals tenim dades\n",
    "\n",
    "# afegim la trendline a la gràfica\n",
    "plt.plot(x, p(x), 'darkslategrey', label='Línia de tendència')\n",
    "\n",
    "zs = np.arange(0.01, 0.85, 0.01)\n",
    "#energia fosca que afegim al nostre univers creat amb Python\n",
    "pl.plot(zs, effmag(zs, 0.67, 6.), c='r', label='67% Energia Fosca', linestyle='dashdot') \n",
    "pl.legend(loc=4, frameon=False) #mostrem una llegenda descrivint el plot amb els labels\n",
    "\n",
    "#per aquest cas, hem de definir la zona que volem visualitzar de la nostra funció\n",
    "plt.ylim(13,25)"
   ]
  },
  {
   "cell_type": "markdown",
   "id": "ff81ef43",
   "metadata": {},
   "source": [
    "Pel mètode dels mínims quadrats, per aquest percentatge la línia descrita pel programa és la que millor s'apropa a la realitat ( a la línia de tendència descrita per una equació de grau quatre).<br>\n",
    "D'aquesta forma, acabem de calcular aproximadament la quantitat d'energia fosca que composa el nostre univers d'acord amb les teories acceptades en l'actualitat. Determinem així el potencial que té Python, atès que amb 5 llibreries de Python i unes 30 línies de codi hem pogut arribar a la mateixa conclusió que el grup d'astrònoms que van ser otorgats el Premi Nobel de Física el 2011."
   ]
  }
 ],
 "metadata": {
  "kernelspec": {
   "display_name": "Python 3 (ipykernel)",
   "language": "python",
   "name": "python3"
  },
  "language_info": {
   "codemirror_mode": {
    "name": "ipython",
    "version": 3
   },
   "file_extension": ".py",
   "mimetype": "text/x-python",
   "name": "python",
   "nbconvert_exporter": "python",
   "pygments_lexer": "ipython3",
   "version": "3.11.4"
  }
 },
 "nbformat": 4,
 "nbformat_minor": 5
}
